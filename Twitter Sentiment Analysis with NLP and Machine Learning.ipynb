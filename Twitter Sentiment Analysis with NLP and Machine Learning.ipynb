{
 "cells": [
  {
   "cell_type": "code",
   "execution_count": null,
   "metadata": {},
   "outputs": [],
   "source": [
    "!pip install WordCloud"
   ]
  },
  {
   "cell_type": "code",
   "execution_count": null,
   "metadata": {},
   "outputs": [],
   "source": [
    "#import library\n",
    "\n",
    "import numpy as np\n",
    "import pandas as pd\n",
    "\n",
    "import re\n",
    "import nltk\n",
    "\n",
    "import matplotlib.pyplot as plt\n",
    "import seaborn as sns\n",
    "\n",
    "import warnings"
   ]
  },
  {
   "cell_type": "code",
   "execution_count": null,
   "metadata": {},
   "outputs": [],
   "source": [
    "train = pd.read_csv('tweet_set_train.csv')\n",
    "test = pd.read_csv('Twwet_test.csv')\n",
    "\n",
    "print(train.shape)\n",
    "print(test.shape)"
   ]
  },
  {
   "cell_type": "code",
   "execution_count": null,
   "metadata": {},
   "outputs": [],
   "source": [
    "train.head()"
   ]
  },
  {
   "cell_type": "code",
   "execution_count": null,
   "metadata": {},
   "outputs": [],
   "source": [
    "test.head()"
   ]
  },
  {
   "cell_type": "code",
   "execution_count": null,
   "metadata": {},
   "outputs": [],
   "source": [
    "train.isnull().any()\n",
    "test.isnull().any()"
   ]
  },
  {
   "cell_type": "code",
   "execution_count": null,
   "metadata": {},
   "outputs": [],
   "source": [
    "# negative comments \n",
    "\n",
    "train[train['label'] == 0].head(10)"
   ]
  },
  {
   "cell_type": "code",
   "execution_count": null,
   "metadata": {},
   "outputs": [],
   "source": [
    "# postive comments \n",
    "\n",
    "train[train['label'] == 1].head(10)"
   ]
  },
  {
   "cell_type": "code",
   "execution_count": null,
   "metadata": {},
   "outputs": [],
   "source": [
    "train['label'].value_counts().plot.bar(color = 'green', figsize = (8, 6))"
   ]
  },
  {
   "cell_type": "code",
   "execution_count": null,
   "metadata": {},
   "outputs": [],
   "source": [
    "#  distribution of tweets \n",
    "\n",
    "length_train = train['tweet'].str.len().plot.hist(color = 'brown', figsize = (8, 6))\n",
    "length_test = test['tweet'].str.len().plot.hist(color = 'blue', figsize = (8, 6))"
   ]
  },
  {
   "cell_type": "code",
   "execution_count": null,
   "metadata": {},
   "outputs": [],
   "source": [
    "\n",
    "train['len'] = train['tweet'].str.len()\n",
    "test['len'] = test['tweet'].str.len()\n",
    "\n",
    "train.head(10)"
   ]
  },
  {
   "cell_type": "code",
   "execution_count": null,
   "metadata": {},
   "outputs": [],
   "source": [
    "train.groupby('label').describe()"
   ]
  },
  {
   "cell_type": "code",
   "execution_count": null,
   "metadata": {},
   "outputs": [],
   "source": [
    "train.groupby('len').mean()['label'].plot.hist(color = 'pink', figsize = (6, 4),)\n",
    "plt.title('variation accrding to twitter length')\n",
    "plt.xlabel('Length')\n",
    "plt.show()"
   ]
  },
  {
   "cell_type": "code",
   "execution_count": null,
   "metadata": {},
   "outputs": [],
   "source": [
    "from sklearn.feature_extraction.text import CountVectorizer\n",
    "\n",
    "\n",
    "cov = CountVectorizer(stop_words = 'english')\n",
    "tweet_words = cov.fit_transform(train.tweet)\n",
    "\n",
    "tweet_sum_words = tweet_words.sum(axis=0)\n",
    "\n",
    "tweet_words_freq = [(tweet_word, tweet_sum_words[0, i]) for tweet_word, i in cov.vocabulary_.items()]\n",
    "tweet_words_freq = sorted(tweet_words_freq, key = lambda x: x[1], reverse = True)\n",
    "\n",
    "frequency = pd.DataFrame(tweet_words_freq, columns=['tweet_word', 'freq'])\n",
    "\n",
    "frequency.head(50).plot(x='tweet_word', y='freq', kind='bar', figsize=(15, 7), color = 'orange')\n",
    "plt.title(\"Most Frequently Occuring Words in the twitter \")"
   ]
  },
  {
   "cell_type": "code",
   "execution_count": null,
   "metadata": {},
   "outputs": [],
   "source": [
    "from wordcloud import WordCloud\n",
    "\n",
    "twitter_wordcloud = WordCloud(background_color = 'white', width = 1200, height = 1200).generate_from_frequencies(dict(tweet_words_freq))\n",
    "\n",
    "plt.figure(figsize=(10,8))\n",
    "plt.imshow(twitter_wordcloud)\n",
    "plt.title(\"WordCloud - Vocabulary from Reviews\", fontsize = 20)"
   ]
  },
  {
   "cell_type": "code",
   "execution_count": null,
   "metadata": {},
   "outputs": [],
   "source": [
    "positive_words =' '.join([text for text in train['tweet'][train['label'] == 0]])\n",
    "\n",
    "twitterwordcloud = WordCloud(width=1000, height=800, random_state = 0, max_font_size = 110).generate(positive_words)\n",
    "plt.figure(figsize=(10, 7))\n",
    "plt.imshow(twitterwordcloud, interpolation=\"bilinear\")\n",
    "plt.axis('off')\n",
    "plt.title('Twitter Positive Words')\n",
    "plt.show()"
   ]
  },
  {
   "cell_type": "code",
   "execution_count": null,
   "metadata": {},
   "outputs": [],
   "source": [
    "negative_words =' '.join([text for text in train['tweet'][train['label'] == 1]])\n",
    "\n",
    "twitterwordcloud = WordCloud(background_color = 'cyan', width=800, height=500, random_state = 0, max_font_size = 110).generate(negative_words)\n",
    "plt.figure(figsize=(10, 7))\n",
    "plt.imshow(twitterwordcloud, interpolation=\"bilinear\")\n",
    "plt.axis('off')\n",
    "plt.title('Twitter Negative Words')\n",
    "plt.show()"
   ]
  },
  {
   "cell_type": "code",
   "execution_count": null,
   "metadata": {},
   "outputs": [],
   "source": [
    "# collect the hashtags\n",
    "\n",
    "def twitter_hashtag_extract(x):\n",
    "    twitter_hashtags = []\n",
    "    \n",
    "    for i in x:\n",
    "        ht = re.findall(r\"#(\\w+)\", i)\n",
    "        twitter_hashtags.append(ht)\n",
    "\n",
    "    return twitter_hashtags"
   ]
  },
  {
   "cell_type": "code",
   "execution_count": null,
   "metadata": {},
   "outputs": [],
   "source": [
    "# extracting hashtags from non positive tweets\n",
    "TH_positive = twitter_hashtag_extract(train['tweet'][train['label'] == 0])\n",
    "\n",
    "# extracting hashtags from negative tweets\n",
    "TH_negative = twitter_hashtag_extract(train['tweet'][train['label'] == 1])\n",
    "\n",
    "\n",
    "TH_positive = sum(TH_positive,[])\n",
    "TH_negative = sum(TH_negative,[])"
   ]
  },
  {
   "cell_type": "code",
   "execution_count": null,
   "metadata": {},
   "outputs": [],
   "source": [
    "twitter_FD = nltk.FreqDist(TH_positive)\n",
    "twiteer_Data = pd.DataFrame({'twitter_Hashtag': list(twitter_FD.keys()),\n",
    "                  'twitter_Count': list(twitter_FD.values())})\n",
    "\n",
    "# top 20 most frequent hashtags     \n",
    "twiteer_Data = twiteer_Data.nlargest(columns=\"twitter_Count\", n = 25) \n",
    "plt.figure(figsize=(16,5))\n",
    "ax = sns.barplot(data=twiteer_Data, x= \"twitter_Hashtag\", y = \"twitter_Count\")\n",
    "ax.set(ylabel = 'Number of Hashtags')\n",
    "plt.show()"
   ]
  },
  {
   "cell_type": "code",
   "execution_count": null,
   "metadata": {},
   "outputs": [],
   "source": [
    "twitter_FD = nltk.FreqDist(TH_negative)\n",
    "twiteer_Data = pd.DataFrame({'twitter_Hashtag': list(twitter_FD.keys()),\n",
    "                  'twitter_Count': list(twitter_FD.values())})\n",
    "\n",
    "#  top 20 most frequent hashtags     \n",
    "twiteer_Data = twiteer_Data.nlargest(columns=\"twitter_Count\", n = 25) \n",
    "plt.figure(figsize=(16,5))\n",
    "ax = sns.barplot(data=twiteer_Data, x= \"twitter_Hashtag\", y = \"twitter_Count\")\n",
    "ax.set(ylabel = 'Number of Hashtags')\n",
    "plt.show()"
   ]
  },
  {
   "cell_type": "code",
   "execution_count": null,
   "metadata": {},
   "outputs": [],
   "source": [
    "# tokenizing the words present in the training set\n",
    "tokenized_tweet_set = train['tweet'].apply(lambda x: x.split()) \n",
    "\n",
    "# importing gensim\n",
    "import gensim\n",
    "\n",
    "# vector model\n",
    "twitter_model = gensim.models.Word2Vec(\n",
    "            tokenized_tweet_set,\n",
    "            size=200, \n",
    "            window=5, \n",
    "            min_count=2,\n",
    "            sg = 1, \n",
    "            hs = 0,\n",
    "            negative = 10, \n",
    "            workers= 2, \n",
    "            seed = 34)\n",
    "\n",
    "twitter_model.train(tokenized_tweet_set, total_examples= len(train['tweet']), epochs=20)"
   ]
  },
  {
   "cell_type": "code",
   "execution_count": null,
   "metadata": {},
   "outputs": [],
   "source": [
    "twitter_model.wv.most_similar(positive = \"can\")"
   ]
  },
  {
   "cell_type": "code",
   "execution_count": null,
   "metadata": {},
   "outputs": [],
   "source": [
    "twitter_model.wv.most_similar(negative = \"hate\")"
   ]
  },
  {
   "cell_type": "code",
   "execution_count": null,
   "metadata": {},
   "outputs": [],
   "source": [
    "from tqdm import tqdm\n",
    "tqdm.pandas(desc=\"progress-bar\")\n",
    "from gensim.models.doc2vec import LabeledSentence\n",
    "\n",
    "def add_label_twitter(twitter):\n",
    "    output = []\n",
    "    for i, s in zip(twitter.index, twitter):\n",
    "        output.append(LabeledSentence(s, [\"tweet_\" + str(i)]))\n",
    "    return output\n",
    "\n",
    "# label all the tweets\n",
    "labeled_tweets = add_label_twitter(tokenized_tweet_set)\n",
    "\n",
    "labeled_tweets[:6]"
   ]
  },
  {
   "cell_type": "code",
   "execution_count": null,
   "metadata": {},
   "outputs": [],
   "source": [
    "\n",
    "\n",
    "nltk.download('stopwords')\n",
    "from nltk.corpus import stopwords\n",
    "from nltk.stem.porter import PorterStemmer\n",
    "\n",
    "Twtrain_corpus = []\n",
    "\n",
    "for i in range(0, 31962):\n",
    "  Treview = re.sub('[^a-zA-Z]', ' ', train['tweet'][i])\n",
    "  Treview = Treview.lower()\n",
    "  Treview = Treview.split()\n",
    "  \n",
    "  twitter_ps = PorterStemmer()\n",
    "  \n",
    "  # stemming\n",
    "  Treview = [twitter_ps.stem(word) for word in Treview if not word in set(stopwords.words('english'))]\n",
    "  \n",
    "  # joining them  with space\n",
    "  Treview = ' '.join(Treview)\n",
    "  Twtrain_corpus.append(Treview)"
   ]
  },
  {
   "cell_type": "code",
   "execution_count": null,
   "metadata": {},
   "outputs": [],
   "source": [
    "Twtest_corpus = []\n",
    "\n",
    "for i in range(0, 58):\n",
    "  Treview = re.sub('[^a-zA-Z]', ' ', test['tweet'][i])\n",
    "  Treview = Treview.lower()\n",
    "  Treview = Treview.split()\n",
    "  \n",
    "  twitter_ps = PorterStemmer()\n",
    "  \n",
    "  # stemming\n",
    "  review = [twitter_ps.stem(word) for word in Treview if not word in set(stopwords.words('english'))]\n",
    "  \n",
    "  # joining them with space\n",
    "  Treview = ' '.join(Treview)\n",
    "  Twtest_corpus.append(Treview)"
   ]
  },
  {
   "cell_type": "code",
   "execution_count": null,
   "metadata": {},
   "outputs": [],
   "source": [
    "\n",
    "from sklearn.feature_extraction.text import CountVectorizer\n",
    "\n",
    "cv_train = CountVectorizer(max_features = 707)\n",
    "x_twt = cv_train.fit_transform(Twtrain_corpus).toarray()\n",
    "y_twt = train.iloc[:, 1]\n",
    "\n",
    "print(x_twt.shape)\n",
    "print(y_twt.shape)"
   ]
  },
  {
   "cell_type": "code",
   "execution_count": null,
   "metadata": {},
   "outputs": [],
   "source": [
    "\n",
    "from sklearn.feature_extraction.text import CountVectorizer\n",
    "\n",
    "cv_test = CountVectorizer(max_features = 707)\n",
    "x_test = cv_test.fit_transform(Twtest_corpus).toarray()  \n",
    "\n",
    "print(x_test.shape)"
   ]
  },
  {
   "cell_type": "code",
   "execution_count": null,
   "metadata": {},
   "outputs": [],
   "source": [
    "# splitting the training data \n",
    "\n",
    "from sklearn.model_selection import train_test_split\n",
    "\n",
    "x_tra, x_val, y_tra, y_val = train_test_split(x_twt, y_twt, test_size = 0.25, random_state = 42)\n",
    "\n",
    "print(x_tra.shape)\n",
    "print(x_val.shape)\n",
    "print(y_tra.shape)\n",
    "print(y_val.shape)"
   ]
  },
  {
   "cell_type": "code",
   "execution_count": null,
   "metadata": {},
   "outputs": [],
   "source": [
    "# standardization data set\n",
    "\n",
    "from sklearn.preprocessing import StandardScaler\n",
    "\n",
    "twitter_sc = StandardScaler()\n",
    "\n",
    "x_tra = twitter_sc.fit_transform(x_tra)\n",
    "x_val = twitter_sc.transform(x_val)\n",
    "\n"
   ]
  },
  {
   "cell_type": "code",
   "execution_count": null,
   "metadata": {},
   "outputs": [],
   "source": [
    "from sklearn.preprocessing import StandardScaler\n",
    "\n",
    "twitter_sc = StandardScaler()\n",
    "x_test = twitter_sc.fit_transform(x_test)\n",
    "x_tst = twitter_sc.transform(x_test)"
   ]
  },
  {
   "cell_type": "code",
   "execution_count": null,
   "metadata": {},
   "outputs": [],
   "source": [
    "from sklearn.ensemble import RandomForestClassifier\n",
    "from sklearn.metrics import confusion_matrix\n",
    "from sklearn.metrics import f1_score\n",
    "\n",
    "twitter_model = RandomForestClassifier()\n",
    "twitter_model.fit(x_tra, y_tra)\n",
    "\n",
    "y_prd = twitter_model.predict(x_val)\n",
    "\n",
    "print(\"Training Accuracy :\", twitter_model.score(x_tra, y_tra))\n",
    "print(\"Validation Accuracy :\", twitter_model.score(x_val, y_val))\n",
    "\n",
    "# calculating the f1 score for the validation set\n",
    "print(\"F1 score :\", f1_score(y_val, y_prd))\n",
    "\n",
    "# confusion matrix\n",
    "cm = confusion_matrix(y_val, y_prd)\n",
    "print(cm)\n"
   ]
  },
  {
   "cell_type": "code",
   "execution_count": null,
   "metadata": {},
   "outputs": [],
   "source": [
    "y_prd_new = twitter_model.predict(x_tst)"
   ]
  },
  {
   "cell_type": "code",
   "execution_count": null,
   "metadata": {},
   "outputs": [],
   "source": [
    "y_prd_new"
   ]
  },
  {
   "cell_type": "code",
   "execution_count": null,
   "metadata": {},
   "outputs": [],
   "source": []
  }
 ],
 "metadata": {
  "kernelspec": {
   "display_name": "Python 3",
   "language": "python",
   "name": "python3"
  },
  "language_info": {
   "codemirror_mode": {
    "name": "ipython",
    "version": 3
   },
   "file_extension": ".py",
   "mimetype": "text/x-python",
   "name": "python",
   "nbconvert_exporter": "python",
   "pygments_lexer": "ipython3",
   "version": "3.8.3"
  }
 },
 "nbformat": 4,
 "nbformat_minor": 4
}
